{
 "metadata": {
  "name": "",
  "signature": "sha256:09998640548f3987f3cdb6c218a83d84673f16ce3426dfddfd4f75c9870ebe54"
 },
 "nbformat": 3,
 "nbformat_minor": 0,
 "worksheets": [
  {
   "cells": [
    {
     "cell_type": "code",
     "collapsed": false,
     "input": [
      "import numpy as np\n",
      "import pandas as pd\n",
      "import os\n",
      "IN_DATA = False\n",
      "\n",
      "def readFile(f):\n",
      "    data = np.loadtxt(str(f), delimiter = '\\n', dtype=str)\n",
      "    x,y,z = np.loadtxt(data[-1440:], dtype=float, usecols=[3,4,5], unpack=True)\n",
      "    return x,y,z\n",
      "\n",
      "#def readFiles():\n",
      "data = {}\n",
      "try:\n",
      "    os.chdir('data')\n",
      "except:\n",
      "    IN_DATA = True\n",
      "    \n",
      "allfiles = os.listdir('.') \n",
      "for f in allfiles:\n",
      "    #x = np.array([0 for i in range(len(allfiles))])\n",
      "    #y = np.array([0 for i in range(len(allfiles))])\n",
      "    #z = np.array([0 for i in range(len(allfiles))])     \n",
      "    try:\n",
      "        x,y,z = readFile(f)\n",
      "        data[str(f)] = x,y,z\n",
      "        #print(f)\n",
      "        #print(x,y,z)\n",
      "    except:\n",
      "        print('hello')\n",
      "        others = f\n",
      "\n",
      "#if (__name__ == \"__main__\"):\n",
      " #   data = readFiles()\n",
      "  #  print(data)"
     ],
     "language": "python",
     "metadata": {},
     "outputs": [
      {
       "output_type": "stream",
       "stream": "stdout",
       "text": [
        "hello\n",
        "hello\n"
       ]
      }
     ],
     "prompt_number": 4
    },
    {
     "cell_type": "code",
     "collapsed": false,
     "input": [
      "import numpy as np\n",
      "data = np.loadtxt('abk20170827vmin.min', delimiter = '\\n', dtype=str)\n",
      "print(data[-1440:])"
     ],
     "language": "python",
     "metadata": {},
     "outputs": [
      {
       "output_type": "stream",
       "stream": "stdout",
       "text": [
        "['2017-08-27 00:00:00.000 239     11307.70   1734.50  52018.70  53261.50'\n",
        " '2017-08-27 00:01:00.000 239     11308.00   1734.50  52018.60  53261.50'\n",
        " '2017-08-27 00:02:00.000 239     11308.00   1734.40  52018.30  53261.30'\n",
        " ...,\n",
        " '2017-08-27 23:57:00.000 239     99999.00  99999.00  99999.00  99999.00'\n",
        " '2017-08-27 23:58:00.000 239     99999.00  99999.00  99999.00  99999.00'\n",
        " '2017-08-27 23:59:00.000 239     99999.00  99999.00  99999.00  99999.00']\n"
       ]
      }
     ],
     "prompt_number": 72
    },
    {
     "cell_type": "code",
     "collapsed": false,
     "input": [],
     "language": "python",
     "metadata": {},
     "outputs": []
    }
   ],
   "metadata": {}
  }
 ]
}